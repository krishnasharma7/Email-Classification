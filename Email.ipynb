{
 "cells": [
  {
   "cell_type": "code",
   "execution_count": 2,
   "metadata": {},
   "outputs": [],
   "source": [
    "import pandas as pd"
   ]
  },
  {
   "cell_type": "code",
   "execution_count": 4,
   "metadata": {},
   "outputs": [
    {
     "name": "stdout",
     "output_type": "stream",
     "text": [
      "                                                   text  target\n",
      "0     From ilug-admin@linux.ie Mon Jul 29 11:28:02 2...       0\n",
      "1     From gort44@excite.com Mon Jun 24 17:54:21 200...       1\n",
      "2     From fork-admin@xent.com Mon Jul 29 11:39:57 2...       1\n",
      "3     From dcm123@btamail.net.cn Mon Jun 24 17:49:23...       1\n",
      "4     From ilug-admin@linux.ie Mon Aug 19 11:02:47 2...       0\n",
      "...                                                 ...     ...\n",
      "5791  From ilug-admin@linux.ie Mon Jul 22 18:12:45 2...       0\n",
      "5792  From fork-admin@xent.com Mon Oct 7 20:37:02 20...       0\n",
      "5793  Received: from hq.pro-ns.net (localhost [127.0...       1\n",
      "5794  From razor-users-admin@lists.sourceforge.net T...       0\n",
      "5795  From rssfeeds@jmason.org Mon Sep 30 13:44:10 2...       0\n",
      "\n",
      "[5796 rows x 2 columns]\n"
     ]
    }
   ],
   "source": [
    "df = pd.read_csv('./Dataset/spam_assassin.csv')\n",
    "print(df)"
   ]
  },
  {
   "cell_type": "code",
   "execution_count": null,
   "metadata": {},
   "outputs": [],
   "source": []
  }
 ],
 "metadata": {
  "kernelspec": {
   "display_name": "Python 3",
   "language": "python",
   "name": "python3"
  },
  "language_info": {
   "codemirror_mode": {
    "name": "ipython",
    "version": 3
   },
   "file_extension": ".py",
   "mimetype": "text/x-python",
   "name": "python",
   "nbconvert_exporter": "python",
   "pygments_lexer": "ipython3",
   "version": "3.10.11"
  }
 },
 "nbformat": 4,
 "nbformat_minor": 2
}
